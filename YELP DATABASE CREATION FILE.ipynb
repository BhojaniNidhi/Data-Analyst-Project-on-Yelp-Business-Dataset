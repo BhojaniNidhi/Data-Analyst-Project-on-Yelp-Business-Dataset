{
 "cells": [
  {
   "cell_type": "code",
   "execution_count": 1,
   "id": "2d17699a-1540-4ed0-a270-3a58f42fd155",
   "metadata": {},
   "outputs": [],
   "source": [
    "import json\n",
    "import pandas as pd\n",
    "import pymysql\n",
    "from sqlalchemy import create_engine"
   ]
  },
  {
   "cell_type": "code",
   "execution_count": 2,
   "id": "d71ba37c-eacf-4f97-bc01-a8e3b17ca00b",
   "metadata": {},
   "outputs": [],
   "source": [
    "db_username = 'root'\n",
    "db_password = 'nidhi#B2727'\n",
    "db_host = 'localhost'\n",
    "db_port = '3306'\n",
    "db_name = 'yelp_db'\n",
    "\n",
    "engine = create_engine(f\"mysql+mysqlconnector://{'root'}:{'nidhi#B2727'}@{'localhost'}:{3306}/{'yelp_db'}\")"
   ]
  },
  {
   "cell_type": "code",
   "execution_count": 3,
   "id": "4bf387e3-5143-4306-9de8-b9407e013450",
   "metadata": {},
   "outputs": [],
   "source": [
    "# Function to process and insert data in chunks\n",
    "def process_and_insert(filename, table_name, chunksize=1000):\n",
    "    chunk = []\n",
    "    with open(filename, 'r', encoding='utf-8') as f:\n",
    "        for line in f:\n",
    "            record = json.loads(line.strip())\n",
    "            \n",
    "            # Convert dictionary fields to JSON strings\n",
    "            if 'attributes' in record and isinstance(record['attributes'], dict):\n",
    "                record['attributes'] = json.dumps(record['attributes'])\n",
    "            if 'hours' in record and isinstance(record['hours'], dict):\n",
    "                record['hours'] = json.dumps(record['hours'])\n",
    "            \n",
    "            chunk.append(record)\n",
    "            if len(chunk) >= chunksize:\n",
    "                df = pd.DataFrame(chunk)\n",
    "                df.to_sql(name=table_name, con=engine, if_exists='append', index=False)\n",
    "                chunk = []\n",
    "    # Insert remaining records\n",
    "    if chunk:\n",
    "        df = pd.DataFrame(chunk)\n",
    "        df.to_sql(name=table_name, con=engine, if_exists='append', index=False)\n",
    "\n",
    "engine = create_engine(f\"mysql+mysqlconnector://{'root'}:{'nidhi#B2727'}@{'localhost'}:{3306}/{'yelp_db'}\")"
   ]
  },
  {
   "cell_type": "code",
   "execution_count": 4,
   "id": "d3aa61c6-5c0d-4d49-bae7-f74732910ade",
   "metadata": {},
   "outputs": [],
   "source": [
    "# Function to read JSON file line by line\n",
    "def load_json_line_by_line(filename):\n",
    "    with open(filename, 'r', encoding='utf-8', errors='ignore') as f:\n",
    "        for line in f:\n",
    "            try:\n",
    "                yield json.loads(line)\n",
    "            except json.JSONDecodeError as e:\n",
    "                print(f\"Error decoding JSON: {e}\")\n",
    "                continue"
   ]
  },
  {
   "cell_type": "code",
   "execution_count": 5,
   "id": "5b76b01e-62fb-4256-a3ad-1a4d1a55c25d",
   "metadata": {},
   "outputs": [
    {
     "name": "stdout",
     "output_type": "stream",
     "text": [
      "Processing business data...\n",
      "Data loading completed.\n"
     ]
    }
   ],
   "source": [
    "# Creating and loading the business dataset\n",
    "print(\"Processing business data...\")\n",
    "process_and_insert('yelp_academic_dataset_business.json', 'business')\n",
    "print(\"Data loading completed.\")"
   ]
  },
  {
   "cell_type": "code",
   "execution_count": 6,
   "id": "296a2ab6-34b4-4669-8ce8-793edc909d78",
   "metadata": {},
   "outputs": [
    {
     "name": "stdout",
     "output_type": "stream",
     "text": [
      "Processing checkin data...\n",
      "Data loading completed.\n"
     ]
    }
   ],
   "source": [
    "# Creating and loading the checkin dataset\n",
    "print(\"Processing checkin data...\")\n",
    "process_and_insert('yelp_academic_dataset_checkin.json', 'checkin')\n",
    "print(\"Data loading completed.\")"
   ]
  },
  {
   "cell_type": "code",
   "execution_count": 5,
   "id": "bc7fa6fc-6ce7-4788-9aa4-f02e038a3ef0",
   "metadata": {},
   "outputs": [
    {
     "name": "stdout",
     "output_type": "stream",
     "text": [
      "Processing review data...\n",
      "Data loading completed.\n"
     ]
    }
   ],
   "source": [
    "# Creating and loading the review dataset\n",
    "print(\"Processing review data...\")\n",
    "process_and_insert('yelp_academic_dataset_review.json', 'review')\n",
    "print(\"Data loading completed.\")"
   ]
  },
  {
   "cell_type": "code",
   "execution_count": 6,
   "id": "200ca30b-f689-4ac0-9240-fba01e0d8b57",
   "metadata": {},
   "outputs": [
    {
     "name": "stdout",
     "output_type": "stream",
     "text": [
      "Processing tip data...\n",
      "Data loading completed.\n"
     ]
    }
   ],
   "source": [
    "# Creating and loading the tip dataset\n",
    "print(\"Processing tip data...\")\n",
    "process_and_insert('yelp_academic_dataset_tip.json', 'tip')\n",
    "print(\"Data loading completed.\")"
   ]
  },
  {
   "cell_type": "code",
   "execution_count": 11,
   "id": "a3bbb5bb-6833-45e3-83d6-b0c27f60a2a2",
   "metadata": {},
   "outputs": [
    {
     "name": "stdout",
     "output_type": "stream",
     "text": [
      "Processing user data...\n",
      "Data loading completed.\n"
     ]
    }
   ],
   "source": [
    "# Creating and loading the user dataset\n",
    "print(\"Processing user data...\")\n",
    "process_and_insert('yelp_academic_dataset_user.json', 'user')\n",
    "print(\"Data loading completed.\")"
   ]
  },
  {
   "cell_type": "code",
   "execution_count": null,
   "id": "95e42f63-ce1c-4017-8717-a91ed6bbdd7c",
   "metadata": {},
   "outputs": [],
   "source": []
  }
 ],
 "metadata": {
  "kernelspec": {
   "display_name": "Python 3 (ipykernel)",
   "language": "python",
   "name": "python3"
  },
  "language_info": {
   "codemirror_mode": {
    "name": "ipython",
    "version": 3
   },
   "file_extension": ".py",
   "mimetype": "text/x-python",
   "name": "python",
   "nbconvert_exporter": "python",
   "pygments_lexer": "ipython3",
   "version": "3.12.2"
  }
 },
 "nbformat": 4,
 "nbformat_minor": 5
}
